{
 "cells": [
  {
   "cell_type": "code",
   "execution_count": 20,
   "metadata": {},
   "outputs": [],
   "source": [
    "from ConvLSTM import Seq2Seq\n",
    "import torch\n",
    "import torch.nn as nn\n",
    "import numpy as np\n",
    "from torch.optim import Adam\n",
    "from torch.utils.data import DataLoader\n",
    "import xarray as xr\n",
    "from datetime import date\n",
    "from pathlib import Path\n",
    "\n",
    "\n",
    "SEQ_LEN = 30\n",
    "DEVICE = torch.device('cuda' if torch.cuda.is_available() else 'cpu')\n",
    "BASEPATH = Path(r\"C:\\Users\\Casper\\OneDrive - Danmarks Tekniske Universitet\\SKOLE\\Kandidat\\Syntese\\ProcessedGrids\")"
   ]
  },
  {
   "cell_type": "code",
   "execution_count": 2,
   "metadata": {},
   "outputs": [],
   "source": [
    "with xr.open_dataset(BASEPATH / \"without_polar_v5_mss21.nc\") as file:\n",
    "    sla = file['sla'].data\n",
    "    times = file['time'].data\n",
    "    lat = file['Latitude'].data\n",
    "    lon = file['Longitude'].data"
   ]
  },
  {
   "cell_type": "code",
   "execution_count": 13,
   "metadata": {},
   "outputs": [],
   "source": [
    "TRAIN_END = np.array(date(2014, 1, 1)).astype(\"datetime64[ns]\")\n",
    "TEST_END = np.array(date(2019, 1, 1)).astype(\"datetime64[ns]\")"
   ]
  },
  {
   "cell_type": "code",
   "execution_count": 16,
   "metadata": {},
   "outputs": [],
   "source": [
    "train_features = sla[times <= TRAIN_END]\n",
    "validation_features = sla[(times > TRAIN_END) & (times <= TEST_END)]\n",
    "test_features = sla[times > TEST_END]"
   ]
  },
  {
   "cell_type": "code",
   "execution_count": 75,
   "metadata": {},
   "outputs": [],
   "source": [
    "# Map:\n",
    "# (num_channels, height, width) -> (batch_size, num_channels, seq_len, height, width)\n",
    "def collate(batch):\n",
    "\n",
    "    # Add channel dim, scale pixels between 0 and 1, send to GPU\n",
    "    batch = torch.tensor(batch).unsqueeze(1)     \n",
    "    batch = batch.to(DEVICE)                     \n",
    "\n",
    "    return batch[:,:,:-1], batch[:,:,-1] "
   ]
  },
  {
   "cell_type": "code",
   "execution_count": 84,
   "metadata": {},
   "outputs": [],
   "source": [
    "SEQ_LEN = 2\n",
    "BATH_SIZE = 5"
   ]
  },
  {
   "cell_type": "code",
   "execution_count": 82,
   "metadata": {},
   "outputs": [],
   "source": [
    "num_frames = tf.shape[0]\n",
    "seq_len_result = SEQ_LEN + 1\n",
    "\n",
    "# Create an empty array to store the reshaped movie\n",
    "reshaped_train_features = np.empty((num_frames - seq_len_result, seq_len_result, tf.shape[-2], tf.shape[-1]))\n",
    "\n",
    "# Iterate over each frame and create the reshaped movie\n",
    "for i in range(num_frames - seq_len_result):\n",
    "    reshaped_train_features[i] = tf[i:i + seq_len_result]"
   ]
  },
  {
   "cell_type": "code",
   "execution_count": 92,
   "metadata": {},
   "outputs": [],
   "source": [
    "# Training Data Loader\n",
    "train_loader = DataLoader(reshaped_train_features, shuffle = False, batch_size = BATH_SIZE, collate_fn = collate)\n",
    "# Get a batch\n",
    "input_features, result = next(iter(train_loader))"
   ]
  },
  {
   "cell_type": "code",
   "execution_count": 99,
   "metadata": {},
   "outputs": [
    {
     "name": "stdout",
     "output_type": "stream",
     "text": [
      "Shape of input grid:\n",
      "\tbatch_size : 5\n",
      "\tnum_channels : 1\n",
      "\tseq_len : 2\n",
      "\theight : 129\n",
      "\twidth : 360\n",
      "Shape of output grid:\n",
      "\tbatch_size : 5\n",
      "\tseq_len : 1\n",
      "\theight : 129\n",
      "\twidth : 360\n"
     ]
    }
   ],
   "source": [
    "print(\"Shape of input grid:\")\n",
    "dims = (\"batch_size\", \"num_channels\", \"seq_len\", \"height\", \"width\")\n",
    "for s, name in zip((input_features.shape), dims):\n",
    "    print(f\"\\t{name} : {s}\")\n",
    "dims = (\"batch_size\", \"seq_len\", \"height\", \"width\")\n",
    "print(\"Shape of output grid:\")\n",
    "for s, name in zip((result.shape), dims):\n",
    "    print(f\"\\t{name} : {s}\")"
   ]
  }
 ],
 "metadata": {
  "kernelspec": {
   "display_name": "Python 3",
   "language": "python",
   "name": "python3"
  },
  "language_info": {
   "codemirror_mode": {
    "name": "ipython",
    "version": 3
   },
   "file_extension": ".py",
   "mimetype": "text/x-python",
   "name": "python",
   "nbconvert_exporter": "python",
   "pygments_lexer": "ipython3",
   "version": "3.11.3"
  },
  "orig_nbformat": 4
 },
 "nbformat": 4,
 "nbformat_minor": 2
}
