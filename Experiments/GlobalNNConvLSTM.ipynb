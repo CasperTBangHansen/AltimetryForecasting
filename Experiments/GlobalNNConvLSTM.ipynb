{
 "cells": [
  {
   "cell_type": "code",
   "execution_count": 20,
   "metadata": {},
   "outputs": [],
   "source": [
    "from ConvLSTM import Seq2Seq\n",
    "from DatasetOperations import stack_frames\n",
    "import torch\n",
    "import torch.nn as nn\n",
    "import numpy as np\n",
    "from torch.optim import Adam\n",
    "from torch.utils.data import DataLoader\n",
    "import xarray as xr\n",
    "from datetime import date\n",
    "from pathlib import Path\n",
    "\n",
    "BATH_SIZE = 10\n",
    "SEQ_LEN = 30\n",
    "DEVICE = torch.device('cuda' if torch.cuda.is_available() else 'cpu')\n",
    "BASEPATH = Path(r\"C:\\Users\\Casper\\OneDrive - Danmarks Tekniske Universitet\\SKOLE\\Kandidat\\Syntese\\ProcessedGrids\")"
   ]
  },
  {
   "cell_type": "code",
   "execution_count": 2,
   "metadata": {},
   "outputs": [],
   "source": [
    "with xr.open_dataset(BASEPATH / \"without_polar_v5_mss21.nc\") as file:\n",
    "    sla = file['sla'].data\n",
    "    times = file['time'].data\n",
    "    lat = file['Latitude'].data\n",
    "    lon = file['Longitude'].data"
   ]
  },
  {
   "cell_type": "code",
   "execution_count": 13,
   "metadata": {},
   "outputs": [],
   "source": [
    "TRAIN_END = np.array(date(2014, 1, 1)).astype(\"datetime64[ns]\")\n",
    "TEST_END = np.array(date(2019, 1, 1)).astype(\"datetime64[ns]\")"
   ]
  },
  {
   "cell_type": "code",
   "execution_count": 16,
   "metadata": {},
   "outputs": [],
   "source": [
    "train_features = stack_frames(sla[times <= TRAIN_END], SEQ_LEN + 1)\n",
    "validation_features = stack_frames(sla[(times > TRAIN_END) & (times <= TEST_END)], SEQ_LEN + 1)\n",
    "test_features = stack_frames(sla[times > TEST_END], SEQ_LEN + 1)"
   ]
  },
  {
   "cell_type": "code",
   "execution_count": 75,
   "metadata": {},
   "outputs": [],
   "source": [
    "def collate(batch):\n",
    "    torch_batch = torch.tensor(batch).unsqueeze(1).to(DEVICE) \n",
    "    return batch[:,:,:-1], batch[:,:,-1] "
   ]
  },
  {
   "cell_type": "code",
   "execution_count": 92,
   "metadata": {},
   "outputs": [],
   "source": [
    "# Training Data Loader\n",
    "train_loader = DataLoader(train_features, shuffle = False, batch_size = BATH_SIZE, collate_fn = collate)\n",
    "# Get a batch\n",
    "input_features, result = next(iter(train_loader))"
   ]
  },
  {
   "cell_type": "code",
   "execution_count": 99,
   "metadata": {},
   "outputs": [
    {
     "name": "stdout",
     "output_type": "stream",
     "text": [
      "Shape of input grid:\n",
      "\tbatch_size : 5\n",
      "\tnum_channels : 1\n",
      "\tseq_len : 2\n",
      "\theight : 129\n",
      "\twidth : 360\n",
      "Shape of output grid:\n",
      "\tbatch_size : 5\n",
      "\tseq_len : 1\n",
      "\theight : 129\n",
      "\twidth : 360\n"
     ]
    }
   ],
   "source": [
    "print(\"Shape of input grid:\")\n",
    "dims = (\"batch_size\", \"num_channels\", \"seq_len\", \"height\", \"width\")\n",
    "for s, name in zip((input_features.shape), dims):\n",
    "    print(f\"\\t{name} : {s}\")\n",
    "dims = (\"batch_size\", \"seq_len\", \"height\", \"width\")\n",
    "print(\"Shape of output grid:\")\n",
    "for s, name in zip((result.shape), dims):\n",
    "    print(f\"\\t{name} : {s}\")"
   ]
  }
 ],
 "metadata": {
  "kernelspec": {
   "display_name": "Python 3",
   "language": "python",
   "name": "python3"
  },
  "language_info": {
   "codemirror_mode": {
    "name": "ipython",
    "version": 3
   },
   "file_extension": ".py",
   "mimetype": "text/x-python",
   "name": "python",
   "nbconvert_exporter": "python",
   "pygments_lexer": "ipython3",
   "version": "3.11.3"
  },
  "orig_nbformat": 4
 },
 "nbformat": 4,
 "nbformat_minor": 2
}
